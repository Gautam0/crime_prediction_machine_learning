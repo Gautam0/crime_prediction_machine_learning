{
 "cells": [
  {
   "cell_type": "markdown",
   "metadata": {},
   "source": [
    "#  Thesis: Crime Prediction in Bangladesh"
   ]
  },
  {
   "cell_type": "code",
   "execution_count": 25,
   "metadata": {},
   "outputs": [],
   "source": [
    "import pandas as pd # panda's nickname is pd\n",
    "import numpy as np\n",
    "import sklearn.metrics as metrics\n",
    "from sklearn.tree import DecisionTreeClassifier, export_graphviz\n",
    "from sklearn import svm\n",
    "from sklearn.model_selection import cross_val_score\n",
    "from sklearn.linear_model import LogisticRegression\n",
    "from  sklearn.linear_model import LinearRegression\n",
    "from sklearn.naive_bayes import GaussianNB\n",
    "from sklearn.model_selection import validation_curve\n",
    "from sklearn.preprocessing import binarize\n",
    "import matplotlib.pyplot as plot\n",
    "from sklearn import linear_model\n",
    "from IPython.display import Image \n",
    "from sklearn.preprocessing import Imputer\n",
    "from sklearn.preprocessing import PolynomialFeatures\n",
    "from sklearn import tree\n",
    "import sklearn.preprocessing as prep\n",
    "import pydotplus \n",
    "import math\n",
    "from sklearn.linear_model import RidgeCV\n",
    "import sklearn.linear_model as linear_model\n",
    "from sklearn.model_selection import GridSearchCV\n",
    "from sklearn.cluster import KMeans\n",
    "from sklearn.ensemble import GradientBoostingClassifier\n",
    "from sklearn.ensemble import RandomForestClassifier\n",
    "import matplotlib.pyplot as plt"
   ]
  },
  {
   "cell_type": "markdown",
   "metadata": {},
   "source": [
    "###### Load the data_2.csv file into a dataframe object"
   ]
  },
  {
   "cell_type": "code",
   "execution_count": 26,
   "metadata": {},
   "outputs": [
    {
     "data": {
      "text/html": [
       "<div>\n",
       "<style scoped>\n",
       "    .dataframe tbody tr th:only-of-type {\n",
       "        vertical-align: middle;\n",
       "    }\n",
       "\n",
       "    .dataframe tbody tr th {\n",
       "        vertical-align: top;\n",
       "    }\n",
       "\n",
       "    .dataframe thead th {\n",
       "        text-align: right;\n",
       "    }\n",
       "</style>\n",
       "<table border=\"1\" class=\"dataframe\">\n",
       "  <thead>\n",
       "    <tr style=\"text-align: right;\">\n",
       "      <th></th>\n",
       "      <th>UnitName</th>\n",
       "      <th>Fold</th>\n",
       "      <th>Dacoity</th>\n",
       "      <th>Robbery</th>\n",
       "      <th>Murder</th>\n",
       "      <th>SpeedyTrial</th>\n",
       "      <th>Riot</th>\n",
       "      <th>WomanAndChildRepression</th>\n",
       "      <th>Kidnapping</th>\n",
       "      <th>PoliceAssault</th>\n",
       "      <th>Burglary</th>\n",
       "      <th>Theft</th>\n",
       "      <th>OtherCases</th>\n",
       "      <th>ArmsAct</th>\n",
       "      <th>Explosive</th>\n",
       "      <th>Narcotics</th>\n",
       "      <th>Smuggling</th>\n",
       "      <th>ViolentCrimesPerPop</th>\n",
       "    </tr>\n",
       "  </thead>\n",
       "  <tbody>\n",
       "    <tr>\n",
       "      <th>0</th>\n",
       "      <td>1</td>\n",
       "      <td>5</td>\n",
       "      <td>0.07</td>\n",
       "      <td>0.21</td>\n",
       "      <td>0.06</td>\n",
       "      <td>0.21</td>\n",
       "      <td>0.02</td>\n",
       "      <td>0.08</td>\n",
       "      <td>0.16</td>\n",
       "      <td>0.32</td>\n",
       "      <td>0.18</td>\n",
       "      <td>0.22</td>\n",
       "      <td>0.08</td>\n",
       "      <td>0.32</td>\n",
       "      <td>0.32</td>\n",
       "      <td>0.35</td>\n",
       "      <td>0.02</td>\n",
       "      <td>0.14</td>\n",
       "    </tr>\n",
       "    <tr>\n",
       "      <th>1</th>\n",
       "      <td>1</td>\n",
       "      <td>3</td>\n",
       "      <td>0.07</td>\n",
       "      <td>0.21</td>\n",
       "      <td>0.06</td>\n",
       "      <td>0.22</td>\n",
       "      <td>0.02</td>\n",
       "      <td>0.08</td>\n",
       "      <td>0.16</td>\n",
       "      <td>0.33</td>\n",
       "      <td>0.18</td>\n",
       "      <td>0.22</td>\n",
       "      <td>0.08</td>\n",
       "      <td>0.33</td>\n",
       "      <td>0.32</td>\n",
       "      <td>0.36</td>\n",
       "      <td>0.02</td>\n",
       "      <td>0.14</td>\n",
       "    </tr>\n",
       "    <tr>\n",
       "      <th>2</th>\n",
       "      <td>1</td>\n",
       "      <td>2</td>\n",
       "      <td>0.07</td>\n",
       "      <td>0.21</td>\n",
       "      <td>0.06</td>\n",
       "      <td>0.22</td>\n",
       "      <td>0.02</td>\n",
       "      <td>0.08</td>\n",
       "      <td>0.16</td>\n",
       "      <td>0.33</td>\n",
       "      <td>0.16</td>\n",
       "      <td>0.22</td>\n",
       "      <td>0.08</td>\n",
       "      <td>0.33</td>\n",
       "      <td>0.32</td>\n",
       "      <td>0.36</td>\n",
       "      <td>0.02</td>\n",
       "      <td>0.14</td>\n",
       "    </tr>\n",
       "    <tr>\n",
       "      <th>3</th>\n",
       "      <td>1</td>\n",
       "      <td>9</td>\n",
       "      <td>0.07</td>\n",
       "      <td>0.21</td>\n",
       "      <td>0.06</td>\n",
       "      <td>0.22</td>\n",
       "      <td>0.02</td>\n",
       "      <td>0.08</td>\n",
       "      <td>0.16</td>\n",
       "      <td>0.33</td>\n",
       "      <td>0.18</td>\n",
       "      <td>0.22</td>\n",
       "      <td>0.08</td>\n",
       "      <td>0.33</td>\n",
       "      <td>0.32</td>\n",
       "      <td>0.36</td>\n",
       "      <td>0.02</td>\n",
       "      <td>0.14</td>\n",
       "    </tr>\n",
       "    <tr>\n",
       "      <th>4</th>\n",
       "      <td>1</td>\n",
       "      <td>6</td>\n",
       "      <td>0.09</td>\n",
       "      <td>0.22</td>\n",
       "      <td>0.06</td>\n",
       "      <td>0.15</td>\n",
       "      <td>0.28</td>\n",
       "      <td>0.07</td>\n",
       "      <td>0.18</td>\n",
       "      <td>0.19</td>\n",
       "      <td>0.26</td>\n",
       "      <td>0.25</td>\n",
       "      <td>0.07</td>\n",
       "      <td>0.13</td>\n",
       "      <td>0.27</td>\n",
       "      <td>0.18</td>\n",
       "      <td>0.03</td>\n",
       "      <td>0.11</td>\n",
       "    </tr>\n",
       "  </tbody>\n",
       "</table>\n",
       "</div>"
      ],
      "text/plain": [
       "   UnitName  Fold  Dacoity  Robbery  Murder  SpeedyTrial  Riot  \\\n",
       "0         1     5     0.07     0.21    0.06         0.21  0.02   \n",
       "1         1     3     0.07     0.21    0.06         0.22  0.02   \n",
       "2         1     2     0.07     0.21    0.06         0.22  0.02   \n",
       "3         1     9     0.07     0.21    0.06         0.22  0.02   \n",
       "4         1     6     0.09     0.22    0.06         0.15  0.28   \n",
       "\n",
       "   WomanAndChildRepression  Kidnapping  PoliceAssault  Burglary  Theft  \\\n",
       "0                     0.08        0.16           0.32      0.18   0.22   \n",
       "1                     0.08        0.16           0.33      0.18   0.22   \n",
       "2                     0.08        0.16           0.33      0.16   0.22   \n",
       "3                     0.08        0.16           0.33      0.18   0.22   \n",
       "4                     0.07        0.18           0.19      0.26   0.25   \n",
       "\n",
       "   OtherCases  ArmsAct  Explosive  Narcotics  Smuggling  ViolentCrimesPerPop  \n",
       "0        0.08     0.32       0.32       0.35       0.02                 0.14  \n",
       "1        0.08     0.33       0.32       0.36       0.02                 0.14  \n",
       "2        0.08     0.33       0.32       0.36       0.02                 0.14  \n",
       "3        0.08     0.33       0.32       0.36       0.02                 0.14  \n",
       "4        0.07     0.13       0.27       0.18       0.03                 0.11  "
      ]
     },
     "execution_count": 26,
     "metadata": {},
     "output_type": "execute_result"
    }
   ],
   "source": [
    "communities_crime_df = pd.read_csv('crime_data.csv')\n",
    "\n",
    "# Sanity test we have good data\n",
    "communities_crime_df.head()"
   ]
  },
  {
   "cell_type": "markdown",
   "metadata": {},
   "source": [
    "### First algo: Decision Trees\n",
    "---\n",
    "#### Create a new field “highCrime” which is true if the crime rate per capita (ViolentCrimesPerPop) is greater than 0.1, and false otherwise. What are the percentage of positive and negative instances in the dataset?"
   ]
  },
  {
   "cell_type": "code",
   "execution_count": 27,
   "metadata": {},
   "outputs": [
    {
     "name": "stdout",
     "output_type": "stream",
     "text": [
      "highCrime\n",
      "False    68.888889\n",
      "True     31.111111\n",
      "dtype: float64\n",
      "------------------\n",
      "Percentage Positive Instance = 31.1111111111\n",
      "Percentage Negative Instance = 68.8888888889 \n"
     ]
    }
   ],
   "source": [
    "def setHighCrime(df):\n",
    "    '''Function to set value of highCrime depending on ViolentCrimesPerPop'''\n",
    "    if df['ViolentCrimesPerPop'] > 0.1:\n",
    "        return True\n",
    "    else:\n",
    "        return False\n",
    "    \n",
    "# Adding a new field \"highCrime\"\n",
    "communities_crime_df['highCrime'] = communities_crime_df.apply(setHighCrime, axis=1)\n",
    "\n",
    "# Calculating the percentage of positive and negative instances in the dataset\n",
    "percentage_intances = communities_crime_df.groupby('highCrime').size() * 100 / len(communities_crime_df)\n",
    "print(percentage_intances)\n",
    "print(\"------------------\")\n",
    "print(\"Percentage Positive Instance = {}\\nPercentage Negative Instance = {} \".format(percentage_intances[1],percentage_intances[0]))"
   ]
  },
  {
   "cell_type": "markdown",
   "metadata": {},
   "source": [
    "#### Using DecisionTreeClassifier to learn a decision tree to predict highCrime on the entire dataset\n",
    "---\n",
    "##### What are the training accuracy, precision, and recall for this tree?"
   ]
  },
  {
   "cell_type": "code",
   "execution_count": 28,
   "metadata": {},
   "outputs": [
    {
     "name": "stdout",
     "output_type": "stream",
     "text": [
      "Training Accuracy = 1.0 Precision = 1.0 Recall = 1.0\n"
     ]
    }
   ],
   "source": [
    "#Dropping non-predictive fields as well as ViolentCrimesPerPop field \n",
    "X = communities_crime_df.drop('ViolentCrimesPerPop', axis=1).drop('UnitName', axis=1).drop('Fold', axis=1).drop('highCrime', axis=1)\n",
    "features = list(X.columns)\n",
    "y = communities_crime_df[\"highCrime\"]\n",
    "\n",
    "\n",
    "# First, we tried by not defining the max depth\n",
    "dt_clf = DecisionTreeClassifier()\n",
    "dt_clf.fit(X,y)\n",
    "predicted = dt_clf.predict(X[features])\n",
    "recall_score = metrics.recall_score(communities_crime_df['highCrime'], predicted)\n",
    "precision_score = metrics.precision_score(communities_crime_df['highCrime'], predicted)\n",
    "accuracy_score = metrics.accuracy_score(communities_crime_df['highCrime'], predicted)\n",
    "print(\"Training Accuracy = {} Precision = {} Recall = {}\".format(accuracy_score,precision_score,recall_score))"
   ]
  },
  {
   "cell_type": "markdown",
   "metadata": {},
   "source": [
    "#### The scores values shows overfitting so we can define max_depth to avoid the complexity of the tree and to reach a point from where there is a decrease in the cross validation performance."
   ]
  },
  {
   "cell_type": "code",
   "execution_count": 29,
   "metadata": {},
   "outputs": [
    {
     "name": "stdout",
     "output_type": "stream",
     "text": [
      "Depth: 1 Accuracy: 0.954\n",
      "Depth: 2 Accuracy: 0.962\n",
      "Depth: 3 Accuracy: 0.954\n",
      "Depth: 4 Accuracy: 0.954\n"
     ]
    }
   ],
   "source": [
    "for depth in range(1,10):\n",
    "    tree_clf = DecisionTreeClassifier(max_depth=depth, random_state=0)\n",
    "    if tree_clf.fit(X,y).tree_.max_depth < depth:\n",
    "        break\n",
    "    score = np.mean(cross_val_score(tree_clf, X, y,scoring='accuracy', cv=10, n_jobs=1))\n",
    "    print(\"Depth: %i Accuracy: %.3f\" % (depth,score))"
   ]
  },
  {
   "cell_type": "markdown",
   "metadata": {},
   "source": [
    "#### We can see that the point up to which the performance is increasing is the depth 4. We can specify the depth and witness the results."
   ]
  },
  {
   "cell_type": "code",
   "execution_count": 30,
   "metadata": {},
   "outputs": [
    {
     "name": "stdout",
     "output_type": "stream",
     "text": [
      "('Accuracy for DT =', 0.9925925925925926)\n",
      "('Precision for DT =', 0.9767441860465116)\n",
      "('Recall for DT =', 0.9767441860465116)\n"
     ]
    }
   ],
   "source": [
    "dt_clf = DecisionTreeClassifier(max_depth=3)\n",
    "dt_clf.fit(X,y)\n",
    "#Predicting \n",
    "pred_dt= dt_clf.predict(X)\n",
    "dt_accuracy= metrics.accuracy_score(communities_crime_df['highCrime'], pred_dt)\n",
    "dt_precision= metrics.precision_score(communities_crime_df['highCrime'], pred_dt)\n",
    "dt_recall= metrics.recall_score(communities_crime_df['highCrime'], pred_dt)\n",
    "print(\"Accuracy for DT =\",dt_accuracy)\n",
    "print(\"Precision for DT =\",dt_precision)\n",
    "print(\"Recall for DT =\",dt_precision)"
   ]
  },
  {
   "cell_type": "markdown",
   "metadata": {},
   "source": [
    "#### What are the main features used for classification? "
   ]
  },
  {
   "cell_type": "code",
   "execution_count": 31,
   "metadata": {},
   "outputs": [
    {
     "data": {
      "image/png": "[encoded data removed]",
      "text/plain": [
       "<IPython.core.display.Image object>"
      ]
     },
     "execution_count": 31,
     "metadata": {},
     "output_type": "execute_result"
    }
   ],
   "source": [
    "dot_data = tree.export_graphviz(dt_clf, out_file=None,feature_names=list(X))\n",
    "\n",
    "graph = pydotplus.graph_from_dot_data(dot_data)  \n",
    "Image(graph.create_png())"
   ]
  },
  {
   "cell_type": "code",
   "execution_count": 32,
   "metadata": {},
   "outputs": [
    {
     "name": "stdout",
     "output_type": "stream",
     "text": [
      "Feature ranking:\n",
      "The main features used for classification\n",
      "Index([u'Kidnapping', u'Narcotics', u'Smuggling', u'Theft', u'Explosive'], dtype='object')\n",
      "('Top main feature is', 'Kidnapping')\n"
     ]
    }
   ],
   "source": [
    "# We can check the main features used for classification by checking the feature importance, the higher the value,\n",
    "# more important the feature would be.\n",
    "# We can sort the importance scores in descending order and take the top most.\n",
    "importances=dt_clf.feature_importances_\n",
    "indices = np.argsort(importances)[::-1]\n",
    "# Print the feature ranking\n",
    "print(\"Feature ranking:\")\n",
    "# We have taken the top 5 feature \n",
    "print(\"The main features used for classification\")\n",
    "print(X.columns[indices[:5]])\n",
    "print(\"Top main feature is\",X.columns[indices[:1]][0])"
   ]
  },
  {
   "cell_type": "markdown",
   "metadata": {},
   "source": [
    "#### The top main feature is Kidnapping because it is the split point of the tree. "
   ]
  },
  {
   "cell_type": "markdown",
   "metadata": {},
   "source": [
    "####  Now apply cross-validation (cross_val_score) to do 10-fold cross-validation to estimate the out-of-training accuracy of decision tree learning for this task.\n",
    "---\n",
    "##### What are the 10-fold cross-validation accuracy, precision, and recall?"
   ]
  },
  {
   "cell_type": "code",
   "execution_count": 33,
   "metadata": {},
   "outputs": [
    {
     "name": "stdout",
     "output_type": "stream",
     "text": [
      "('Cross Validation Accuracy DT:', 0.9461538461538461)\n",
      "('Cross Validation Recall DT:', 0.9266666666666667)\n",
      "('Cross Validation Precision DT:', 0.95)\n"
     ]
    }
   ],
   "source": [
    "\n",
    "# Applying 10 fold cross validation\n",
    "dt_cv_accuracy = cross_val_score(dt_clf, X, y, cv=10).mean()\n",
    "dt_cv_precision= cross_val_score(dt_clf, X, y, cv=10, scoring='precision').mean()\n",
    "dt_cv_recall = cross_val_score(dt_clf, X, y, cv=10, scoring='recall').mean()\n",
    "print(\"Cross Validation Accuracy DT:\", dt_cv_accuracy)\n",
    "print(\"Cross Validation Recall DT:\", dt_cv_precision)\n",
    "print(\"Cross Validation Precision DT:\", dt_cv_recall)"
   ]
  },
  {
   "cell_type": "markdown",
   "metadata": {},
   "source": [
    "### Second algo:  Linear Classification\n",
    "---\n",
    "#### Using GaussianNB to learn a Naive Bayes classifier to predict highCrime.\n",
    "---\n",
    "##### What is the 10-fold cross-validation accuracy, precision, and recall for this method?"
   ]
  },
  {
   "cell_type": "code",
   "execution_count": 34,
   "metadata": {},
   "outputs": [
    {
     "name": "stdout",
     "output_type": "stream",
     "text": [
      "('Accuracy for gaussian :', 0.9384615384615385)\n",
      "('Recall for gaussian:', 0.975)\n",
      "('Precision for gaussian:', 0.9071428571428571)\n"
     ]
    }
   ],
   "source": [
    "# Using GaussianNB\n",
    "gaussian_clf = GaussianNB()\n",
    "gaussian_clf.fit(X, y)\n",
    "\n",
    "# Applying 10 fold cross validation\n",
    "gaussian_accuracy = cross_val_score(gaussian_clf, X, y, cv=10).mean()\n",
    "gaussian_precision= cross_val_score(gaussian_clf, X, y, cv=10, scoring='precision').mean()\n",
    "gaussian_recall = cross_val_score(gaussian_clf, X, y, cv=10, scoring='recall').mean()\n",
    "print(\"Accuracy for gaussian :\", gaussian_accuracy)\n",
    "print(\"Recall for gaussian:\", gaussian_recall)\n",
    "print(\"Precision for gaussian:\", gaussian_precision)"
   ]
  },
  {
   "cell_type": "markdown",
   "metadata": {},
   "source": [
    "##### What are the 10 most predictive features? "
   ]
  },
  {
   "cell_type": "code",
   "execution_count": 35,
   "metadata": {},
   "outputs": [
    {
     "name": "stdout",
     "output_type": "stream",
     "text": [
      "('Murder', 1.1747683660888069)\n",
      "('OtherCases', 1.2060148838668037)\n",
      "('ArmsAct', 1.303302078361282)\n",
      "('WomanAndChildRepression', 1.3119724479275952)\n",
      "('Narcotics', 1.3861516053309633)\n",
      "('SpeedyTrial', 1.3893903596827435)\n",
      "('Robbery', 1.447423646828152)\n",
      "('Burglary', 1.4477299537550992)\n",
      "('Theft', 1.6172969957207728)\n",
      "('Kidnapping', 1.8205310099198875)\n"
     ]
    }
   ],
   "source": [
    "df_predictiveFeature = communities_crime_df.drop('UnitName', axis=1).drop('Fold', axis=1)\n",
    "\n",
    "dictPredFeature = {}\n",
    "# Collecting data for the two classes\n",
    "true_df = X[df_predictiveFeature['highCrime'] == 1]\n",
    "false_df = X[df_predictiveFeature['highCrime'] == 0]\n",
    "for column in X:\n",
    "    mean_true = true_df[column].mean()\n",
    "    mean_false = false_df[column].mean()\n",
    "    var_true = true_df[column].var()\n",
    "    var_false = false_df[column].var()\n",
    "    if(column != 'highCrime'):\n",
    "        predScore = abs((mean_true - mean_false))/(math.sqrt(var_true)+math.sqrt(var_false))\n",
    "        dictPredFeature[column] = predScore\n",
    "most_pred_features = sorted(dictPredFeature.items(), key=lambda x: x[1])[-10:]\n",
    "for i in most_pred_features:\n",
    "    print(i)"
   ]
  },
  {
   "cell_type": "markdown",
   "metadata": {},
   "source": [
    "#### How do these results compare with our results from decision trees, above?"
   ]
  },
  {
   "cell_type": "code",
   "execution_count": 36,
   "metadata": {},
   "outputs": [
    {
     "data": {
      "image/png": "[encoded data removed]",
      "text/plain": [
       "<Figure size 432x288 with 1 Axes>"
      ]
     },
     "metadata": {},
     "output_type": "display_data"
    }
   ],
   "source": [
    "\n",
    "labels = [\"DT\" ,\"GaussianNB\"]\n",
    "acc_list = [dt_cv_accuracy,gaussian_accuracy]\n",
    "pre_list = [dt_cv_precision,gaussian_precision]\n",
    "re_list = [dt_cv_recall,gaussian_recall]\n",
    "\n",
    "x_axis_range = range(2)\n",
    "plt.xticks(x_axis_range, labels, rotation='vertical')\n",
    "# plt.legend()\n",
    "\n",
    "plt.plot(x_axis_range,acc_list,'ro',color=\"Red\",label=\"Accuracy\")\n",
    "plt.plot(x_axis_range,pre_list,'>',color=\"green\",label=\"Precision\")\n",
    "plt.plot(x_axis_range,re_list,'<',color=\"green\",label=\"Recall\")\n",
    "\n",
    "plt.xlabel('Model')\n",
    "plt.ylabel('Metrics')\n",
    "plt.margins(0.2)\n",
    "plt.subplots_adjust(bottom=0.15)\n",
    "legend = plt.legend()\n",
    "plt.show()"
   ]
  },
  {
   "cell_type": "markdown",
   "metadata": {},
   "source": [
    "#### Using LinearSVC to learn a linear Support Vector Machine model to predict highCrime."
   ]
  },
  {
   "cell_type": "code",
   "execution_count": 37,
   "metadata": {},
   "outputs": [
    {
     "name": "stdout",
     "output_type": "stream",
     "text": [
      "('Accuracy for LinearSVC is', 0.9615384615384615)\n",
      "('Precision for LinearSVC is', 0.9371428571428572)\n",
      "('Recall for LinearSVC is', 0.975)\n"
     ]
    }
   ],
   "source": [
    "linearsvmclf = svm.SVC(kernel='linear', C =1.0)\n",
    "accuracy_svm = cross_val_score(linearsvmclf, X, y, cv=10, scoring='accuracy').mean()\n",
    "precision_svm = cross_val_score(linearsvmclf, X, y, cv=10, scoring='precision').mean()\n",
    "recall_svm = cross_val_score(linearsvmclf, X, y, cv=10, scoring='recall').mean()\n",
    "print ('Accuracy for LinearSVC is', accuracy_svm)\n",
    "print ('Precision for LinearSVC is', precision_svm)\n",
    "print ('Recall for LinearSVC is', recall_svm)"
   ]
  },
  {
   "cell_type": "markdown",
   "metadata": {},
   "source": [
    "##### What are the 10 most predictive features? This can be measured by the absolute feature weights in the model."
   ]
  },
  {
   "cell_type": "code",
   "execution_count": 38,
   "metadata": {},
   "outputs": [
    {
     "data": {
      "text/plain": [
       "[('Robbery', 1.1042528904412219),\n",
       " ('Murder', 1.1267588049989943),\n",
       " ('Theft', 1.2018783004308609),\n",
       " ('Burglary', 1.216474961985452),\n",
       " ('SpeedyTrial', 1.3143742503245541),\n",
       " ('Smuggling', 1.444536323757958),\n",
       " ('Narcotics', 1.4470768139878962),\n",
       " ('Kidnapping', 1.638719916313227),\n",
       " ('ArmsAct', 1.7397644420163418),\n",
       " ('Explosive', 2.1281549882949835)]"
      ]
     },
     "execution_count": 38,
     "metadata": {},
     "output_type": "execute_result"
    }
   ],
   "source": [
    "linearsvmclf.fit(X,y)\n",
    "\n",
    "linearsvmclf_coef_array = {}\n",
    "count = 0\n",
    "for i in X.columns:\n",
    "    linearsvmclf_coef_array[i] = abs(linearsvmclf.coef_[0][count])\n",
    "    count = count+ 1\n",
    "\n",
    "most_predictive_features = sorted(linearsvmclf_coef_array.items(), key=lambda x: x[1])[-10:]\n",
    "most_predictive_features"
   ]
  },
  {
   "cell_type": "markdown",
   "metadata": {},
   "source": [
    " #### How do these results compare with our results from decision trees, above?"
   ]
  },
  {
   "cell_type": "code",
   "execution_count": 39,
   "metadata": {},
   "outputs": [
    {
     "data": {
      "image/png": "[encoded data removed]",
      "text/plain": [
       "<Figure size 432x288 with 1 Axes>"
      ]
     },
     "metadata": {},
     "output_type": "display_data"
    }
   ],
   "source": [
    "labels = [\"DT\" ,\"LinearSVC\"]\n",
    "acc_list = [dt_cv_accuracy,accuracy_svm]\n",
    "pre_list = [dt_cv_precision,precision_svm]\n",
    "re_list = [dt_cv_recall,recall_svm]\n",
    "\n",
    "x_axis_range = range(2)\n",
    "plt.xticks(x_axis_range, labels, rotation='vertical')\n",
    "# plt.legend()\n",
    "\n",
    "plt.plot(x_axis_range,acc_list,'ro',color=\"Red\",label=\"Accuracy\")\n",
    "plt.plot(x_axis_range,pre_list,'>',color=\"green\",label=\"Precision\")\n",
    "plt.plot(x_axis_range,re_list,'<',color=\"green\",label=\"Recall\")\n",
    "\n",
    "plt.xlabel('Model')\n",
    "plt.ylabel('Metrics')\n",
    "plt.margins(0.2)\n",
    "plt.subplots_adjust(bottom=0.15)\n",
    "legend = plt.legend()\n",
    "plt.show()"
   ]
  },
  {
   "cell_type": "markdown",
   "metadata": {},
   "source": [
    "#### Using 10-fold cross-validation, what is the estimated meansquared- error (MSE) of the model?"
   ]
  },
  {
   "cell_type": "code",
   "execution_count": 40,
   "metadata": {},
   "outputs": [
    {
     "name": "stdout",
     "output_type": "stream",
     "text": [
      "('Estimated meansquared- error (MSE) of the model is', 3.5104200570706014e-05)\n"
     ]
    }
   ],
   "source": [
    "Y = communities_crime_df['ViolentCrimesPerPop']\n",
    "linear_regression = LinearRegression()\n",
    "#df = df.drop('highCrime', 1)\n",
    "mean_sq_err= cross_val_score(linear_regression,X, Y,None,scoring='neg_mean_squared_error',cv=10)\n",
    "print(\"Estimated meansquared- error (MSE) of the model is\",np.abs(mean_sq_err.mean()))"
   ]
  },
  {
   "cell_type": "code",
   "execution_count": null,
   "metadata": {},
   "outputs": [],
   "source": []
  }
 ],
 "metadata": {
  "kernelspec": {
   "display_name": "Python 2",
   "language": "python",
   "name": "python2"
  },
  "language_info": {
   "codemirror_mode": {
    "name": "ipython",
    "version": 2
   },
   "file_extension": ".py",
   "mimetype": "text/x-python",
   "name": "python",
   "nbconvert_exporter": "python",
   "pygments_lexer": "ipython2",
   "version": "2.7.12"
  }
 },
 "nbformat": 4,
 "nbformat_minor": 2
}
